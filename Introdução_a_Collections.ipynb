{
  "nbformat": 4,
  "nbformat_minor": 0,
  "metadata": {
    "colab": {
      "name": "Introdução a Collections",
      "provenance": [],
      "collapsed_sections": [],
      "authorship_tag": "ABX9TyN+4uqUDFdy8rlksoHpLEkM",
      "include_colab_link": true
    },
    "kernelspec": {
      "name": "python3",
      "display_name": "Python 3"
    }
  },
  "cells": [
    {
      "cell_type": "markdown",
      "metadata": {
        "id": "view-in-github",
        "colab_type": "text"
      },
      "source": [
        "<a href=\"https://colab.research.google.com/github/andreyFernandoSoares/python-collections-pt1/blob/main/Introdu%C3%A7%C3%A3o_a_Collections.ipynb\" target=\"_parent\"><img src=\"https://colab.research.google.com/assets/colab-badge.svg\" alt=\"Open In Colab\"/></a>"
      ]
    },
    {
      "cell_type": "code",
      "metadata": {
        "id": "N27N2XORj3SR",
        "outputId": "291c674b-aad8-4973-f6c8-724186574925",
        "colab": {
          "base_uri": "https://localhost:8080/"
        }
      },
      "source": [
        "idade1 = 39\n",
        "idade2 = 30\n",
        "idade3 = 27\n",
        "idade4 = 18\n",
        "\n",
        "print(idade1)\n",
        "print(idade2)\n",
        "print(idade3)\n",
        "print(idade4)"
      ],
      "execution_count": null,
      "outputs": [
        {
          "output_type": "stream",
          "text": [
            "39\n",
            "30\n",
            "27\n",
            "18\n"
          ],
          "name": "stdout"
        }
      ]
    },
    {
      "cell_type": "code",
      "metadata": {
        "id": "zM21QLhTkZC8",
        "outputId": "16e42237-87a4-45be-c690-3259d361b960",
        "colab": {
          "base_uri": "https://localhost:8080/"
        }
      },
      "source": [
        "idades = [39, 30, 27, 18]\n",
        "type(idades)"
      ],
      "execution_count": null,
      "outputs": [
        {
          "output_type": "execute_result",
          "data": {
            "text/plain": [
              "list"
            ]
          },
          "metadata": {
            "tags": []
          },
          "execution_count": 4
        }
      ]
    },
    {
      "cell_type": "code",
      "metadata": {
        "id": "biqNYFWpkuTQ",
        "outputId": "1fc34978-08e8-4553-f9fb-502e7b24fece",
        "colab": {
          "base_uri": "https://localhost:8080/"
        }
      },
      "source": [
        "len(idades)"
      ],
      "execution_count": null,
      "outputs": [
        {
          "output_type": "execute_result",
          "data": {
            "text/plain": [
              "4"
            ]
          },
          "metadata": {
            "tags": []
          },
          "execution_count": 5
        }
      ]
    },
    {
      "cell_type": "code",
      "metadata": {
        "id": "jKoI-UfZkwuI",
        "outputId": "8d231137-b8d0-4061-a3c2-c7069238a9c5",
        "colab": {
          "base_uri": "https://localhost:8080/"
        }
      },
      "source": [
        "idades[0]"
      ],
      "execution_count": null,
      "outputs": [
        {
          "output_type": "execute_result",
          "data": {
            "text/plain": [
              "39"
            ]
          },
          "metadata": {
            "tags": []
          },
          "execution_count": 6
        }
      ]
    },
    {
      "cell_type": "code",
      "metadata": {
        "id": "Xut6UtfwkyYg",
        "outputId": "495d8ac0-9ba5-4713-838a-944ac69db4aa",
        "colab": {
          "base_uri": "https://localhost:8080/"
        }
      },
      "source": [
        "idades"
      ],
      "execution_count": null,
      "outputs": [
        {
          "output_type": "execute_result",
          "data": {
            "text/plain": [
              "[39, 30, 27, 18]"
            ]
          },
          "metadata": {
            "tags": []
          },
          "execution_count": 7
        }
      ]
    },
    {
      "cell_type": "code",
      "metadata": {
        "id": "QFeAoHWKk0X_",
        "outputId": "f97a6826-2796-46a8-d84b-8e9c3cf65f53",
        "colab": {
          "base_uri": "https://localhost:8080/"
        }
      },
      "source": [
        "idades[1]\n",
        "idades[2]\n",
        "idades[3]"
      ],
      "execution_count": null,
      "outputs": [
        {
          "output_type": "execute_result",
          "data": {
            "text/plain": [
              "18"
            ]
          },
          "metadata": {
            "tags": []
          },
          "execution_count": 8
        }
      ]
    },
    {
      "cell_type": "code",
      "metadata": {
        "id": "4qSqvW0vk60O",
        "outputId": "b2787873-3e3a-41b5-8616-3212a3ef4faa",
        "colab": {
          "base_uri": "https://localhost:8080/"
        }
      },
      "source": [
        "idades.append(15)\n",
        "idades"
      ],
      "execution_count": null,
      "outputs": [
        {
          "output_type": "execute_result",
          "data": {
            "text/plain": [
              "[39, 30, 27, 18, 15, 15]"
            ]
          },
          "metadata": {
            "tags": []
          },
          "execution_count": 10
        }
      ]
    },
    {
      "cell_type": "code",
      "metadata": {
        "id": "ukHi2Z0AlMCF",
        "outputId": "c51d9b13-ffd4-4f77-dad6-48534b241331",
        "colab": {
          "base_uri": "https://localhost:8080/"
        }
      },
      "source": [
        "idades.remove(15)\n",
        "idades"
      ],
      "execution_count": null,
      "outputs": [
        {
          "output_type": "execute_result",
          "data": {
            "text/plain": [
              "[39, 30, 27, 18, 15]"
            ]
          },
          "metadata": {
            "tags": []
          },
          "execution_count": 12
        }
      ]
    },
    {
      "cell_type": "code",
      "metadata": {
        "id": "dZL8G44GlUFv",
        "outputId": "c5690810-cc23-49e0-d777-53e2bfb81863",
        "colab": {
          "base_uri": "https://localhost:8080/"
        }
      },
      "source": [
        "idades.remove(30)\n",
        "idades"
      ],
      "execution_count": null,
      "outputs": [
        {
          "output_type": "execute_result",
          "data": {
            "text/plain": [
              "[39, 27, 18, 15]"
            ]
          },
          "metadata": {
            "tags": []
          },
          "execution_count": 13
        }
      ]
    },
    {
      "cell_type": "code",
      "metadata": {
        "id": "QHFfQk3AlYLf",
        "outputId": "e6a17ee6-5584-46ec-d099-c68a1c99654a",
        "colab": {
          "base_uri": "https://localhost:8080/"
        }
      },
      "source": [
        "idades.append(27)\n",
        "idades.remove(27)\n",
        "idades"
      ],
      "execution_count": null,
      "outputs": [
        {
          "output_type": "execute_result",
          "data": {
            "text/plain": [
              "[39, 18, 15, 27]"
            ]
          },
          "metadata": {
            "tags": []
          },
          "execution_count": 14
        }
      ]
    },
    {
      "cell_type": "code",
      "metadata": {
        "id": "9JBipOgjlwXv",
        "outputId": "6d6da3c0-8ac6-4b63-c69e-bdbb643c6dff",
        "colab": {
          "base_uri": "https://localhost:8080/"
        }
      },
      "source": [
        "28 in idades"
      ],
      "execution_count": null,
      "outputs": [
        {
          "output_type": "execute_result",
          "data": {
            "text/plain": [
              "False"
            ]
          },
          "metadata": {
            "tags": []
          },
          "execution_count": 15
        }
      ]
    },
    {
      "cell_type": "code",
      "metadata": {
        "id": "UFViuDhdmJgP",
        "outputId": "bc5e872a-19c3-428e-e523-6f48ad099573",
        "colab": {
          "base_uri": "https://localhost:8080/"
        }
      },
      "source": [
        "15 in idades"
      ],
      "execution_count": null,
      "outputs": [
        {
          "output_type": "execute_result",
          "data": {
            "text/plain": [
              "True"
            ]
          },
          "metadata": {
            "tags": []
          },
          "execution_count": 16
        }
      ]
    },
    {
      "cell_type": "code",
      "metadata": {
        "id": "GEX3zM4LmK_f"
      },
      "source": [
        "if 15 in idades:\n",
        "  idades.remove(15)"
      ],
      "execution_count": null,
      "outputs": []
    },
    {
      "cell_type": "code",
      "metadata": {
        "id": "GduC0AZOmStP",
        "outputId": "97a5b54b-c845-453b-81c1-f13defe41c9f",
        "colab": {
          "base_uri": "https://localhost:8080/"
        }
      },
      "source": [
        "idades"
      ],
      "execution_count": null,
      "outputs": [
        {
          "output_type": "execute_result",
          "data": {
            "text/plain": [
              "[39, 18, 27]"
            ]
          },
          "metadata": {
            "tags": []
          },
          "execution_count": 18
        }
      ]
    },
    {
      "cell_type": "code",
      "metadata": {
        "id": "Ct-FuwF0mTlR"
      },
      "source": [
        "idades.insert(0, 20)"
      ],
      "execution_count": null,
      "outputs": []
    },
    {
      "cell_type": "code",
      "metadata": {
        "id": "1UKiyGEhmlRv",
        "outputId": "b8294151-694c-474d-a66c-130d4e37e2c8",
        "colab": {
          "base_uri": "https://localhost:8080/"
        }
      },
      "source": [
        "idades"
      ],
      "execution_count": null,
      "outputs": [
        {
          "output_type": "execute_result",
          "data": {
            "text/plain": [
              "[20, 39, 18, 27]"
            ]
          },
          "metadata": {
            "tags": []
          },
          "execution_count": 20
        }
      ]
    },
    {
      "cell_type": "code",
      "metadata": {
        "id": "ue6DZCqAml9n",
        "outputId": "63948f7a-7a96-4895-f0e3-8e90fc4701c0",
        "colab": {
          "base_uri": "https://localhost:8080/"
        }
      },
      "source": [
        "idades = [20, 39, 18]\n",
        "idades"
      ],
      "execution_count": null,
      "outputs": [
        {
          "output_type": "execute_result",
          "data": {
            "text/plain": [
              "[20, 39, 18]"
            ]
          },
          "metadata": {
            "tags": []
          },
          "execution_count": 21
        }
      ]
    },
    {
      "cell_type": "code",
      "metadata": {
        "id": "aMDMX3Bomt9f"
      },
      "source": [
        "idades.append([27, 19])"
      ],
      "execution_count": null,
      "outputs": []
    },
    {
      "cell_type": "code",
      "metadata": {
        "id": "NaOK2huHm-fP",
        "outputId": "38cb0fe6-fa49-4e35-ec1b-0a1f0bb3afe9",
        "colab": {
          "base_uri": "https://localhost:8080/"
        }
      },
      "source": [
        "for elemento in idades:\n",
        "  print(\"Recebi o elemento {}\".format(elemento))"
      ],
      "execution_count": null,
      "outputs": [
        {
          "output_type": "stream",
          "text": [
            "Recebi o elemento 20\n",
            "Recebi o elemento 39\n",
            "Recebi o elemento 18\n",
            "Recebi o elemento [27, 19]\n"
          ],
          "name": "stdout"
        }
      ]
    },
    {
      "cell_type": "code",
      "metadata": {
        "id": "RwmrHNs2nFdn",
        "outputId": "ec60c878-c8dc-4467-912f-39751a831c9c",
        "colab": {
          "base_uri": "https://localhost:8080/"
        }
      },
      "source": [
        "idades = [20, 39, 18]\n",
        "idades.extend([27, 19])\n",
        "idades"
      ],
      "execution_count": null,
      "outputs": [
        {
          "output_type": "execute_result",
          "data": {
            "text/plain": [
              "[20, 39, 18, 27, 19]"
            ]
          },
          "metadata": {
            "tags": []
          },
          "execution_count": 24
        }
      ]
    },
    {
      "cell_type": "code",
      "metadata": {
        "id": "BYc0U4QonkjX",
        "outputId": "04dc699d-6237-42e7-e854-2c7aacb62a6f",
        "colab": {
          "base_uri": "https://localhost:8080/"
        }
      },
      "source": [
        "for idade in idades:\n",
        "  print(idade + 1)"
      ],
      "execution_count": null,
      "outputs": [
        {
          "output_type": "stream",
          "text": [
            "21\n",
            "40\n",
            "19\n",
            "28\n",
            "20\n"
          ],
          "name": "stdout"
        }
      ]
    },
    {
      "cell_type": "code",
      "metadata": {
        "id": "gbnENAiNn4DI",
        "outputId": "ce568dd4-a072-4755-e031-7a9ac1b573ee",
        "colab": {
          "base_uri": "https://localhost:8080/"
        }
      },
      "source": [
        "idades_no_ano_que_vem = []\n",
        "\n",
        "for idade in idades:\n",
        "  idades_no_ano_que_vem.append(idade+1)\n",
        "\n",
        "idades_no_ano_que_vem"
      ],
      "execution_count": null,
      "outputs": [
        {
          "output_type": "execute_result",
          "data": {
            "text/plain": [
              "[21, 40, 19, 28, 20]"
            ]
          },
          "metadata": {
            "tags": []
          },
          "execution_count": 26
        }
      ]
    },
    {
      "cell_type": "code",
      "metadata": {
        "id": "fEbBL_q3oFj2",
        "outputId": "5e049cd8-cb08-4977-9f1b-642c1670e1f0",
        "colab": {
          "base_uri": "https://localhost:8080/"
        }
      },
      "source": [
        "idades_no_ano_que_vem = [(idade + 1) for idade in idades]\n",
        "idades_no_ano_que_vem"
      ],
      "execution_count": null,
      "outputs": [
        {
          "output_type": "execute_result",
          "data": {
            "text/plain": [
              "[21, 40, 19, 28, 20]"
            ]
          },
          "metadata": {
            "tags": []
          },
          "execution_count": 28
        }
      ]
    },
    {
      "cell_type": "code",
      "metadata": {
        "id": "OiQnUPHHoZD_",
        "outputId": "3e0e7a8c-e3d4-4a84-feef-2b3e9f3e9d10",
        "colab": {
          "base_uri": "https://localhost:8080/"
        }
      },
      "source": [
        "idades_maior_que_21 = [(idade) for idade in idades if idade > 21]\n",
        "idades_maior_que_21"
      ],
      "execution_count": null,
      "outputs": [
        {
          "output_type": "execute_result",
          "data": {
            "text/plain": [
              "[39, 27]"
            ]
          },
          "metadata": {
            "tags": []
          },
          "execution_count": 29
        }
      ]
    },
    {
      "cell_type": "code",
      "metadata": {
        "id": "k4_-KcVroxcn",
        "outputId": "06f1da35-38d2-4e7f-f339-1d78f49a0388",
        "colab": {
          "base_uri": "https://localhost:8080/"
        }
      },
      "source": [
        "def proximo_ano(idade):\n",
        "  return idade+1\n",
        "\n",
        "[proximo_ano(idade) for idade in idades if idade > 21]"
      ],
      "execution_count": null,
      "outputs": [
        {
          "output_type": "execute_result",
          "data": {
            "text/plain": [
              "[40, 28]"
            ]
          },
          "metadata": {
            "tags": []
          },
          "execution_count": 30
        }
      ]
    },
    {
      "cell_type": "code",
      "metadata": {
        "id": "K-cPTvk2pHr_",
        "outputId": "9728ac8a-5245-4dfe-edd6-dc6f7da3dbd8",
        "colab": {
          "base_uri": "https://localhost:8080/"
        }
      },
      "source": [
        "def tamanho_lista(lista):\n",
        "  print(len(lista))\n",
        "  lista.append(14)\n",
        "\n",
        "idades = [16, 21, 29, 56, 43, 13]\n",
        "tamanho_lista(idades)\n",
        "idades"
      ],
      "execution_count": null,
      "outputs": [
        {
          "output_type": "stream",
          "text": [
            "6\n"
          ],
          "name": "stdout"
        },
        {
          "output_type": "execute_result",
          "data": {
            "text/plain": [
              "[16, 21, 29, 56, 43, 13]"
            ]
          },
          "metadata": {
            "tags": []
          },
          "execution_count": 31
        }
      ]
    },
    {
      "cell_type": "code",
      "metadata": {
        "id": "dJDDXJzc4AnE"
      },
      "source": [
        "def tamanho_lista(lista):\n",
        "  print(len(lista))\n",
        "  lista.append(14)"
      ],
      "execution_count": null,
      "outputs": []
    },
    {
      "cell_type": "code",
      "metadata": {
        "id": "llW-iSU24QuZ",
        "outputId": "b5c2be32-79f0-4cab-b44f-52db2557c67b",
        "colab": {
          "base_uri": "https://localhost:8080/"
        }
      },
      "source": [
        "tamanho_lista(idades)\n",
        "idades"
      ],
      "execution_count": null,
      "outputs": [
        {
          "output_type": "stream",
          "text": [
            "6\n"
          ],
          "name": "stdout"
        },
        {
          "output_type": "execute_result",
          "data": {
            "text/plain": [
              "[16, 21, 29, 56, 43, 13, 14]"
            ]
          },
          "metadata": {
            "tags": []
          },
          "execution_count": 33
        }
      ]
    },
    {
      "cell_type": "code",
      "metadata": {
        "id": "4Shd-Lc94TyZ"
      },
      "source": [
        ""
      ],
      "execution_count": null,
      "outputs": []
    },
    {
      "cell_type": "markdown",
      "metadata": {
        "id": "GMvy_L9b6jdX"
      },
      "source": [
        "#OBJETOS PRÓPRIOS"
      ]
    },
    {
      "cell_type": "code",
      "metadata": {
        "id": "a8Ai8O8H6m_g"
      },
      "source": [
        "class ContaCorrente:\n",
        "  def __init__(self, codigo):\n",
        "    self.codigo = codigo\n",
        "    self.saldo = 0\n",
        "  \n",
        "  def deposita(self, valor):\n",
        "    self.saldo += valor\n",
        "  \n",
        "  def __str__(self):\n",
        "    return \"[Codigo: {} Saldo: {} <<]\".format(self.codigo, self.saldo)\n",
        "\n"
      ],
      "execution_count": null,
      "outputs": []
    },
    {
      "cell_type": "code",
      "metadata": {
        "id": "EkuCKnRp8qER",
        "outputId": "dd260741-ef5f-438b-f992-bb67cff904f7",
        "colab": {
          "base_uri": "https://localhost:8080/"
        }
      },
      "source": [
        "conta_do_andy = ContaCorrente(5)\n",
        "print(conta_do_andy)"
      ],
      "execution_count": null,
      "outputs": [
        {
          "output_type": "stream",
          "text": [
            "[Codigo: 5 Saldo: 0 <<]\n"
          ],
          "name": "stdout"
        }
      ]
    },
    {
      "cell_type": "code",
      "metadata": {
        "id": "tBHrv1hp8y97",
        "outputId": "46756d2c-e5d2-4ddf-eeb1-21a61a45ec33",
        "colab": {
          "base_uri": "https://localhost:8080/"
        }
      },
      "source": [
        "conta_do_andy.deposita(500)\n",
        "print(conta_do_andy)"
      ],
      "execution_count": null,
      "outputs": [
        {
          "output_type": "stream",
          "text": [
            "[Codigo: 5 Saldo: 1000 <<]\n"
          ],
          "name": "stdout"
        }
      ]
    },
    {
      "cell_type": "code",
      "metadata": {
        "id": "I5NgBrSW8wyC",
        "outputId": "a1eb167b-63eb-457e-db3a-81600b7e30b6",
        "colab": {
          "base_uri": "https://localhost:8080/"
        }
      },
      "source": [
        "conta_da_dani = ContaCorrente(6)\n",
        "conta_da_dani.deposita(1500)\n",
        "print(conta_da_dani)"
      ],
      "execution_count": null,
      "outputs": [
        {
          "output_type": "stream",
          "text": [
            "[Codigo: 6 Saldo: 1500 <<]\n"
          ],
          "name": "stdout"
        }
      ]
    },
    {
      "cell_type": "code",
      "metadata": {
        "id": "FYKhz2NZ89-C",
        "outputId": "13512dbc-96a2-44c9-f729-866539f9826a",
        "colab": {
          "base_uri": "https://localhost:8080/"
        }
      },
      "source": [
        "contas = [conta_do_andy, conta_da_dani]\n",
        "print(contas)"
      ],
      "execution_count": null,
      "outputs": [
        {
          "output_type": "stream",
          "text": [
            "[<__main__.ContaCorrente object at 0x7f8c20b8f7b8>, <__main__.ContaCorrente object at 0x7f8c20b8fa20>]\n"
          ],
          "name": "stdout"
        }
      ]
    },
    {
      "cell_type": "code",
      "metadata": {
        "id": "Xp9-nWOm9LV7",
        "outputId": "a3edf33b-14a7-4e82-a046-e99221c44790",
        "colab": {
          "base_uri": "https://localhost:8080/"
        }
      },
      "source": [
        "for conta in contas:\n",
        "  print(conta)"
      ],
      "execution_count": null,
      "outputs": [
        {
          "output_type": "stream",
          "text": [
            "[Codigo: 5 Saldo: 1000 <<]\n",
            "[Codigo: 6 Saldo: 1500 <<]\n"
          ],
          "name": "stdout"
        }
      ]
    },
    {
      "cell_type": "code",
      "metadata": {
        "id": "HoTvIv789VnB",
        "outputId": "6a9a9764-2782-4dae-f0d9-58f252e07934",
        "colab": {
          "base_uri": "https://localhost:8080/"
        }
      },
      "source": [
        "\n",
        "def deposita_para_todas_contas(contas):\n",
        "  for conta in contas:\n",
        "    conta.deposita(100)\n",
        "\n",
        "contas = [conta_do_andy, conta_da_dani]\n",
        "\n",
        "for conta in contas:\n",
        "  print(conta)\n",
        "\n",
        "deposita_para_todas_contas(contas)\n",
        "\n",
        "for conta in contas:\n",
        "  print(conta)"
      ],
      "execution_count": null,
      "outputs": [
        {
          "output_type": "stream",
          "text": [
            "[Codigo: 5 Saldo: 1000 <<]\n",
            "[Codigo: 6 Saldo: 1500 <<]\n",
            "[Codigo: 5 Saldo: 1100 <<]\n",
            "[Codigo: 6 Saldo: 1600 <<]\n"
          ],
          "name": "stdout"
        }
      ]
    },
    {
      "cell_type": "code",
      "metadata": {
        "id": "tpjshTX9_JOI"
      },
      "source": [
        "guilherme = ('Guilherme', 37, 1981)\n",
        "daniela = ('Daniela', 31, 1987)"
      ],
      "execution_count": null,
      "outputs": []
    },
    {
      "cell_type": "code",
      "metadata": {
        "id": "1R70lIGFBNbZ"
      },
      "source": [
        "usuarios = [guilherme, daniela]"
      ],
      "execution_count": null,
      "outputs": []
    },
    {
      "cell_type": "code",
      "metadata": {
        "id": "WBYZ1r3HDjI6",
        "outputId": "488537b3-811b-4bb9-8620-7cc87cf64651",
        "colab": {
          "base_uri": "https://localhost:8080/"
        }
      },
      "source": [
        "usuarios"
      ],
      "execution_count": null,
      "outputs": [
        {
          "output_type": "execute_result",
          "data": {
            "text/plain": [
              "[('Guilherme', 37, 1981), ('Daniela', 31, 1987)]"
            ]
          },
          "metadata": {
            "tags": []
          },
          "execution_count": 45
        }
      ]
    },
    {
      "cell_type": "code",
      "metadata": {
        "id": "Ob78AzegDksZ"
      },
      "source": [
        "usuarios.append(('Paulo', 39, 1979))"
      ],
      "execution_count": null,
      "outputs": []
    },
    {
      "cell_type": "code",
      "metadata": {
        "id": "P_ueaqNiDrNa",
        "outputId": "827c714d-25f2-4594-d718-2c0772b35f7f",
        "colab": {
          "base_uri": "https://localhost:8080/"
        }
      },
      "source": [
        "usuarios"
      ],
      "execution_count": null,
      "outputs": [
        {
          "output_type": "execute_result",
          "data": {
            "text/plain": [
              "[('Guilherme', 37, 1981), ('Daniela', 31, 1987), ('Paulo', 39, 1979)]"
            ]
          },
          "metadata": {
            "tags": []
          },
          "execution_count": 47
        }
      ]
    },
    {
      "cell_type": "code",
      "metadata": {
        "id": "tVmeEJLeDtZK"
      },
      "source": [
        "conta_do_andy = ContaCorrente(5)\n",
        "conta_do_andy.deposita(500)\n",
        "conta_da_dani = ContaCorrente(6)\n",
        "conta_da_dani.deposita(1500)\n",
        "\n",
        "contas = (conta_do_andy, conta_da_dani)"
      ],
      "execution_count": null,
      "outputs": []
    },
    {
      "cell_type": "code",
      "metadata": {
        "id": "VpI7Y7jQEAjC",
        "outputId": "4416aada-f8e3-40cf-bab5-3fb270c28792",
        "colab": {
          "base_uri": "https://localhost:8080/"
        }
      },
      "source": [
        "for conta in contas:\n",
        "  print(conta)"
      ],
      "execution_count": null,
      "outputs": [
        {
          "output_type": "stream",
          "text": [
            "[Codigo: 5 Saldo: 500 <<]\n",
            "[Codigo: 6 Saldo: 1500 <<]\n"
          ],
          "name": "stdout"
        }
      ]
    },
    {
      "cell_type": "code",
      "metadata": {
        "id": "5U1-qXouEDJ5",
        "outputId": "b2f1de22-aed5-4fbd-c5c0-3b32f9fb6870",
        "colab": {
          "base_uri": "https://localhost:8080/"
        }
      },
      "source": [
        "contas[0].deposita(20)\n",
        "print(contas[0])"
      ],
      "execution_count": null,
      "outputs": [
        {
          "output_type": "stream",
          "text": [
            "[Codigo: 5 Saldo: 520 <<]\n"
          ],
          "name": "stdout"
        }
      ]
    },
    {
      "cell_type": "code",
      "metadata": {
        "id": "lDBk9SeCETV1"
      },
      "source": [
        ""
      ],
      "execution_count": null,
      "outputs": []
    },
    {
      "cell_type": "markdown",
      "metadata": {
        "id": "EG6IQ9y6baPs"
      },
      "source": [
        "#Herança e Polimorfismo\n"
      ]
    },
    {
      "cell_type": "code",
      "metadata": {
        "id": "gdyXbTnxbcvy"
      },
      "source": [
        "from abc import ABCMeta, abstractmethod\n",
        "\n",
        "class Conta(metaclass=ABCMeta):\n",
        "  def __init__(self, codigo):\n",
        "    self._codigo = codigo\n",
        "    self._saldo = 0\n",
        "  \n",
        "  @abstractmethod\n",
        "  def passa_o_mes(self):\n",
        "    pass\n",
        "\n",
        "  def deposita(self, valor):\n",
        "    self._saldo += valor\n",
        "  \n",
        "  def __str__(self):\n",
        "    return \"[Codigo: {} Saldo: {} <<]\".format(self._codigo, self._saldo)"
      ],
      "execution_count": 20,
      "outputs": []
    },
    {
      "cell_type": "code",
      "metadata": {
        "id": "dkLbKLL7DTAZ",
        "outputId": "abf31402-fab7-4414-b0f2-fc9a42c51c40",
        "colab": {
          "base_uri": "https://localhost:8080/"
        }
      },
      "source": [
        "print(Conta(88))"
      ],
      "execution_count": 4,
      "outputs": [
        {
          "output_type": "stream",
          "text": [
            "[Codigo: 88 Saldo: 0 <<]\n"
          ],
          "name": "stdout"
        }
      ]
    },
    {
      "cell_type": "code",
      "metadata": {
        "id": "c44vsyV8DZFD"
      },
      "source": [
        "class ContaCorrente(Conta):\n",
        "\n",
        "  def passa_o_mes(self):\n",
        "    self._saldo -= 2\n",
        "\n",
        "class ContaPoupanca(Conta):\n",
        "\n",
        "  def passa_o_mes(self):\n",
        "    self._saldo *= 1.01\n",
        "    self._saldo -= 3"
      ],
      "execution_count": 9,
      "outputs": []
    },
    {
      "cell_type": "code",
      "metadata": {
        "id": "aMquJF9sD4e8",
        "outputId": "3bc6b673-d64e-47aa-e843-8c91d3f22c20",
        "colab": {
          "base_uri": "https://localhost:8080/"
        }
      },
      "source": [
        "conta16 = ContaCorrente(16)\n",
        "conta16.deposita(1000)\n",
        "conta16.passa_o_mes()\n",
        "print(conta16)"
      ],
      "execution_count": 10,
      "outputs": [
        {
          "output_type": "stream",
          "text": [
            "[Codigo: 16 Saldo: 998 <<]\n"
          ],
          "name": "stdout"
        }
      ]
    },
    {
      "cell_type": "code",
      "metadata": {
        "id": "vNsen-lNEhQj",
        "outputId": "c3533c07-ff95-47da-f545-5d54ab409ded",
        "colab": {
          "base_uri": "https://localhost:8080/"
        }
      },
      "source": [
        "conta17 = ContaPoupanca(16)\n",
        "conta17.deposita(1000)\n",
        "conta17.passa_o_mes()\n",
        "print(conta17)"
      ],
      "execution_count": 11,
      "outputs": [
        {
          "output_type": "stream",
          "text": [
            "[Codigo: 16 Saldo: 1007.0 <<]\n"
          ],
          "name": "stdout"
        }
      ]
    },
    {
      "cell_type": "code",
      "metadata": {
        "id": "Z7U2Tgq9E0hM",
        "outputId": "46f96bce-0642-4027-a109-380168fa8cfe",
        "colab": {
          "base_uri": "https://localhost:8080/"
        }
      },
      "source": [
        "conta16 = ContaCorrente(16)\n",
        "conta16.deposita(1000)\n",
        "conta17 = ContaPoupanca(17)\n",
        "conta17.deposita(1000)\n",
        "contas = [conta16, conta17]\n",
        "\n",
        "for conta in contas:\n",
        "  conta.passa_o_mes()\n",
        "  print(conta)"
      ],
      "execution_count": 12,
      "outputs": [
        {
          "output_type": "stream",
          "text": [
            "[Codigo: 16 Saldo: 998 <<]\n",
            "[Codigo: 17 Saldo: 1007.0 <<]\n"
          ],
          "name": "stdout"
        }
      ]
    },
    {
      "cell_type": "markdown",
      "metadata": {
        "id": "RnIIufXuMBnO"
      },
      "source": [
        "# array, evitaremos usar\n",
        "\n"
      ]
    },
    {
      "cell_type": "code",
      "metadata": {
        "id": "NzDgJ0eMFMV0",
        "outputId": "6c283ed0-d428-4a58-e8d2-0adef265ef5c",
        "colab": {
          "base_uri": "https://localhost:8080/"
        }
      },
      "source": [
        "import array as arr\n",
        "\n",
        "arr.array('d', [1,3.5])"
      ],
      "execution_count": 14,
      "outputs": [
        {
          "output_type": "execute_result",
          "data": {
            "text/plain": [
              "array('d', [1.0, 3.5])"
            ]
          },
          "metadata": {
            "tags": []
          },
          "execution_count": 14
        }
      ]
    },
    {
      "cell_type": "code",
      "metadata": {
        "id": "r1led59BL-mS"
      },
      "source": [
        "import numpy as np"
      ],
      "execution_count": 15,
      "outputs": []
    },
    {
      "cell_type": "code",
      "metadata": {
        "id": "tZz4AwK3Moha",
        "outputId": "b178b743-bf32-4396-ecbf-7da2b3c02e48",
        "colab": {
          "base_uri": "https://localhost:8080/"
        }
      },
      "source": [
        "numeros = np.array([1, 3.5])\n",
        "numeros"
      ],
      "execution_count": 17,
      "outputs": [
        {
          "output_type": "execute_result",
          "data": {
            "text/plain": [
              "array([1. , 3.5])"
            ]
          },
          "metadata": {
            "tags": []
          },
          "execution_count": 17
        }
      ]
    },
    {
      "cell_type": "code",
      "metadata": {
        "id": "nJhBJKcAM5xz",
        "outputId": "ffce1a05-fec7-4305-fde5-2092064a962a",
        "colab": {
          "base_uri": "https://localhost:8080/"
        }
      },
      "source": [
        "numeros + 3"
      ],
      "execution_count": 18,
      "outputs": [
        {
          "output_type": "execute_result",
          "data": {
            "text/plain": [
              "array([4. , 6.5])"
            ]
          },
          "metadata": {
            "tags": []
          },
          "execution_count": 18
        }
      ]
    },
    {
      "cell_type": "code",
      "metadata": {
        "id": "a4AqUt9MNGVS",
        "outputId": "970ff99f-1652-4a69-b1c0-5c705af921be",
        "colab": {
          "base_uri": "https://localhost:8080/"
        }
      },
      "source": [
        "class ContaInvestimento(Conta):\n",
        "  \n",
        "  def passa_o_mes():\n",
        "    pass\n",
        "\n",
        "conta18 = ContaInvestimento(18)\n",
        "print(conta18)"
      ],
      "execution_count": 23,
      "outputs": [
        {
          "output_type": "stream",
          "text": [
            "[Codigo: 18 Saldo: 0 <<]\n"
          ],
          "name": "stdout"
        }
      ]
    },
    {
      "cell_type": "code",
      "metadata": {
        "id": "mOmXeinLObTl"
      },
      "source": [
        "class ContaSalario:\n",
        "\n",
        "  def __init__(self, codigo):\n",
        "    self._codigo = codigo\n",
        "    self._saldo = 0\n",
        "  \n",
        "  def deposita(self, valor):\n",
        "    self._saldo += valor\n",
        "  \n",
        "  def __eq__(self, ref):\n",
        "    return self._codigo == ref._codigo\n",
        "\n",
        "  def __lt__(self, ref):\n",
        "    return self._saldo < ref._saldo\n",
        "\n",
        "  def __str__(self):\n",
        "    return \"[>> Codigo: {} , Saldo: {} <<]\".format(self._codigo, self._saldo)"
      ],
      "execution_count": 86,
      "outputs": []
    },
    {
      "cell_type": "code",
      "metadata": {
        "id": "WQtfWtixPPfA",
        "outputId": "ebdfcf8f-819d-464b-80f2-37c9a74568ce",
        "colab": {
          "base_uri": "https://localhost:8080/"
        }
      },
      "source": [
        "conta1 = ContaSalario(37)\n",
        "print(conta1)"
      ],
      "execution_count": 25,
      "outputs": [
        {
          "output_type": "stream",
          "text": [
            "[>> Codigo: 37 , Saldo: 0 <<]\n"
          ],
          "name": "stdout"
        }
      ]
    },
    {
      "cell_type": "code",
      "metadata": {
        "id": "CTiRv5cNPW6S",
        "outputId": "fcdf7691-328e-45bc-e14f-947db6c7f550",
        "colab": {
          "base_uri": "https://localhost:8080/"
        }
      },
      "source": [
        "conta2 = ContaSalario(37)\n",
        "print(conta2)"
      ],
      "execution_count": 26,
      "outputs": [
        {
          "output_type": "stream",
          "text": [
            "[>> Codigo: 37 , Saldo: 0 <<]\n"
          ],
          "name": "stdout"
        }
      ]
    },
    {
      "cell_type": "code",
      "metadata": {
        "id": "AsRO19QGPbXa",
        "outputId": "2c54c689-4c1e-4d7c-c838-32deec2fafb8",
        "colab": {
          "base_uri": "https://localhost:8080/"
        }
      },
      "source": [
        "conta1 == conta2"
      ],
      "execution_count": 27,
      "outputs": [
        {
          "output_type": "execute_result",
          "data": {
            "text/plain": [
              "False"
            ]
          },
          "metadata": {
            "tags": []
          },
          "execution_count": 27
        }
      ]
    },
    {
      "cell_type": "code",
      "metadata": {
        "id": "vQSKisPcPgD1",
        "outputId": "417bb927-6c5e-42d0-da3a-5d18e0adbc68",
        "colab": {
          "base_uri": "https://localhost:8080/"
        }
      },
      "source": [
        "conta1 == conta2"
      ],
      "execution_count": 29,
      "outputs": [
        {
          "output_type": "execute_result",
          "data": {
            "text/plain": [
              "False"
            ]
          },
          "metadata": {
            "tags": []
          },
          "execution_count": 29
        }
      ]
    },
    {
      "cell_type": "code",
      "metadata": {
        "id": "EmkhCIJ2P3LU",
        "outputId": "c1cea353-5dbc-4ba7-82fb-db94c686dc48",
        "colab": {
          "base_uri": "https://localhost:8080/"
        }
      },
      "source": [
        "conta1 = ContaSalario(37)\n",
        "print(conta1)"
      ],
      "execution_count": 30,
      "outputs": [
        {
          "output_type": "stream",
          "text": [
            "[>> Codigo: 37 , Saldo: 0 <<]\n"
          ],
          "name": "stdout"
        }
      ]
    },
    {
      "cell_type": "code",
      "metadata": {
        "id": "JOAI6vrVQIM0",
        "outputId": "295a3485-4528-4e0d-9636-bac30616e315",
        "colab": {
          "base_uri": "https://localhost:8080/"
        }
      },
      "source": [
        "conta2 = ContaSalario(37)\n",
        "print(conta2)"
      ],
      "execution_count": 31,
      "outputs": [
        {
          "output_type": "stream",
          "text": [
            "[>> Codigo: 37 , Saldo: 0 <<]\n"
          ],
          "name": "stdout"
        }
      ]
    },
    {
      "cell_type": "code",
      "metadata": {
        "id": "aebbLLTjQJwj",
        "outputId": "f64afc29-0050-44d7-ab60-fa24136a3a97",
        "colab": {
          "base_uri": "https://localhost:8080/"
        }
      },
      "source": [
        "conta1 == conta2"
      ],
      "execution_count": 32,
      "outputs": [
        {
          "output_type": "execute_result",
          "data": {
            "text/plain": [
              "True"
            ]
          },
          "metadata": {
            "tags": []
          },
          "execution_count": 32
        }
      ]
    },
    {
      "cell_type": "code",
      "metadata": {
        "id": "ZXvp7VDnQK3t",
        "outputId": "447f40e2-7453-4498-aa45-64932a810ee4",
        "colab": {
          "base_uri": "https://localhost:8080/"
        }
      },
      "source": [
        "conta1 in [conta2]"
      ],
      "execution_count": 33,
      "outputs": [
        {
          "output_type": "execute_result",
          "data": {
            "text/plain": [
              "True"
            ]
          },
          "metadata": {
            "tags": []
          },
          "execution_count": 33
        }
      ]
    },
    {
      "cell_type": "code",
      "metadata": {
        "id": "M9FJ8GVcQT_L"
      },
      "source": [
        "class ContaMultiploSalario(ContaSalario):\n",
        "  pass"
      ],
      "execution_count": 34,
      "outputs": []
    },
    {
      "cell_type": "code",
      "metadata": {
        "id": "AEbxHslMRAX7",
        "outputId": "5cfdcdd2-2d57-4e37-bdfb-793c2d1b72cf",
        "colab": {
          "base_uri": "https://localhost:8080/"
        }
      },
      "source": [
        "isinstance(ContaCorrente(10), ContaCorrente)"
      ],
      "execution_count": 35,
      "outputs": [
        {
          "output_type": "execute_result",
          "data": {
            "text/plain": [
              "True"
            ]
          },
          "metadata": {
            "tags": []
          },
          "execution_count": 35
        }
      ]
    },
    {
      "cell_type": "code",
      "metadata": {
        "id": "81de6-xTRLqL",
        "outputId": "1aa0b57c-2641-47c9-e451-68d8d723b2f4",
        "colab": {
          "base_uri": "https://localhost:8080/"
        }
      },
      "source": [
        "isinstance(ContaCorrente(10), Conta)"
      ],
      "execution_count": 36,
      "outputs": [
        {
          "output_type": "execute_result",
          "data": {
            "text/plain": [
              "False"
            ]
          },
          "metadata": {
            "tags": []
          },
          "execution_count": 36
        }
      ]
    },
    {
      "cell_type": "code",
      "metadata": {
        "id": "of_HdSrvRN0a"
      },
      "source": [
        "idades = [15, 87, 32, 65, 56, 32, 48, 37]"
      ],
      "execution_count": 39,
      "outputs": []
    },
    {
      "cell_type": "code",
      "metadata": {
        "id": "nCsPENqURozL",
        "outputId": "5ffa3de9-7ae6-4443-8f2d-ac4ebca8ba30",
        "colab": {
          "base_uri": "https://localhost:8080/"
        }
      },
      "source": [
        "for idade in idades:\n",
        "  print(idade)"
      ],
      "execution_count": 40,
      "outputs": [
        {
          "output_type": "stream",
          "text": [
            "15\n",
            "87\n",
            "32\n",
            "65\n",
            "56\n",
            "32\n",
            "48\n",
            "37\n"
          ],
          "name": "stdout"
        }
      ]
    },
    {
      "cell_type": "code",
      "metadata": {
        "id": "YyPxbq9lRtQk",
        "outputId": "6dfc58d0-9f95-4828-a685-b43665b03f3b",
        "colab": {
          "base_uri": "https://localhost:8080/"
        }
      },
      "source": [
        "len(idades)"
      ],
      "execution_count": 41,
      "outputs": [
        {
          "output_type": "execute_result",
          "data": {
            "text/plain": [
              "8"
            ]
          },
          "metadata": {
            "tags": []
          },
          "execution_count": 41
        }
      ]
    },
    {
      "cell_type": "code",
      "metadata": {
        "id": "Dem_Mi68R8vj",
        "outputId": "490b6c5b-d4e8-4965-a915-88334d80b7a4",
        "colab": {
          "base_uri": "https://localhost:8080/"
        }
      },
      "source": [
        "range(len(idades))"
      ],
      "execution_count": 42,
      "outputs": [
        {
          "output_type": "execute_result",
          "data": {
            "text/plain": [
              "range(0, 8)"
            ]
          },
          "metadata": {
            "tags": []
          },
          "execution_count": 42
        }
      ]
    },
    {
      "cell_type": "code",
      "metadata": {
        "id": "_4qUPmWzSDR9",
        "outputId": "3cd62a4c-ca67-4cb2-a51a-3cf81dfa22e3",
        "colab": {
          "base_uri": "https://localhost:8080/"
        }
      },
      "source": [
        "for i in range(len(idades)):\n",
        "  print(i)"
      ],
      "execution_count": 43,
      "outputs": [
        {
          "output_type": "stream",
          "text": [
            "0\n",
            "1\n",
            "2\n",
            "3\n",
            "4\n",
            "5\n",
            "6\n",
            "7\n"
          ],
          "name": "stdout"
        }
      ]
    },
    {
      "cell_type": "code",
      "metadata": {
        "id": "6olaBtCtSLU6",
        "outputId": "d8400c01-c270-42c3-8c26-8d66938cd228",
        "colab": {
          "base_uri": "https://localhost:8080/"
        }
      },
      "source": [
        "for i in range(len(idades)):\n",
        "  print(i, idades[i])"
      ],
      "execution_count": 44,
      "outputs": [
        {
          "output_type": "stream",
          "text": [
            "0 15\n",
            "1 87\n",
            "2 32\n",
            "3 65\n",
            "4 56\n",
            "5 32\n",
            "6 48\n",
            "7 37\n"
          ],
          "name": "stdout"
        }
      ]
    },
    {
      "cell_type": "code",
      "metadata": {
        "id": "VbZ495KnSRgj",
        "outputId": "6b978035-2a69-4d52-cac9-00053c6cc84f",
        "colab": {
          "base_uri": "https://localhost:8080/"
        }
      },
      "source": [
        "enumerate(idades)"
      ],
      "execution_count": 46,
      "outputs": [
        {
          "output_type": "execute_result",
          "data": {
            "text/plain": [
              "<enumerate at 0x7ff5055391b0>"
            ]
          },
          "metadata": {
            "tags": []
          },
          "execution_count": 46
        }
      ]
    },
    {
      "cell_type": "code",
      "metadata": {
        "id": "4H0A56ycSzky",
        "outputId": "9a40758a-75b6-4d59-d45e-11e907c52e30",
        "colab": {
          "base_uri": "https://localhost:8080/"
        }
      },
      "source": [
        "list(range(len(idades)))"
      ],
      "execution_count": 48,
      "outputs": [
        {
          "output_type": "execute_result",
          "data": {
            "text/plain": [
              "[0, 1, 2, 3, 4, 5, 6, 7]"
            ]
          },
          "metadata": {
            "tags": []
          },
          "execution_count": 48
        }
      ]
    },
    {
      "cell_type": "code",
      "metadata": {
        "id": "G6p7_TSzTNgk",
        "outputId": "cd22f71f-8d02-4c76-9f6b-2ca6884fbab9",
        "colab": {
          "base_uri": "https://localhost:8080/"
        }
      },
      "source": [
        "list(enumerate(idades))"
      ],
      "execution_count": 49,
      "outputs": [
        {
          "output_type": "execute_result",
          "data": {
            "text/plain": [
              "[(0, 15), (1, 87), (2, 32), (3, 65), (4, 56), (5, 32), (6, 48), (7, 37)]"
            ]
          },
          "metadata": {
            "tags": []
          },
          "execution_count": 49
        }
      ]
    },
    {
      "cell_type": "code",
      "metadata": {
        "id": "LXKxQBHFTVC0",
        "outputId": "2e059af0-6820-4ede-da84-d0e6cf00266c",
        "colab": {
          "base_uri": "https://localhost:8080/"
        }
      },
      "source": [
        "for valor in enumerate(idades):\n",
        "  print(valor)"
      ],
      "execution_count": 50,
      "outputs": [
        {
          "output_type": "stream",
          "text": [
            "(0, 15)\n",
            "(1, 87)\n",
            "(2, 32)\n",
            "(3, 65)\n",
            "(4, 56)\n",
            "(5, 32)\n",
            "(6, 48)\n",
            "(7, 37)\n"
          ],
          "name": "stdout"
        }
      ]
    },
    {
      "cell_type": "code",
      "metadata": {
        "id": "AHUZ0nItTgDD",
        "outputId": "a2f4a488-2a62-4ee4-95c4-3f46f88ae284",
        "colab": {
          "base_uri": "https://localhost:8080/"
        }
      },
      "source": [
        "for indice, idade in enumerate(idades): #unpacking da nossa tupla\n",
        "  print(indice, \"x\", idade)"
      ],
      "execution_count": 52,
      "outputs": [
        {
          "output_type": "stream",
          "text": [
            "0 x 15\n",
            "1 x 87\n",
            "2 x 32\n",
            "3 x 65\n",
            "4 x 56\n",
            "5 x 32\n",
            "6 x 48\n",
            "7 x 37\n"
          ],
          "name": "stdout"
        }
      ]
    },
    {
      "cell_type": "code",
      "metadata": {
        "id": "WD3M5YKITzhT",
        "outputId": "0c637d71-2f05-4de2-bf94-afd36e52e922",
        "colab": {
          "base_uri": "https://localhost:8080/"
        }
      },
      "source": [
        "usuarios = [\n",
        "  (\"Gui\", 37, 1996),\n",
        "  (\"Chico\", 38, 1997)\n",
        "]\n",
        "\n",
        "for nome, idade, nascimento in usuarios: #desempacoted\n",
        "  print(nome)"
      ],
      "execution_count": 54,
      "outputs": [
        {
          "output_type": "stream",
          "text": [
            "Gui\n",
            "Chico\n"
          ],
          "name": "stdout"
        }
      ]
    },
    {
      "cell_type": "code",
      "metadata": {
        "id": "57nEI_eSUG5W",
        "outputId": "797e8bc2-4899-42cf-f9c5-d618db6808f8",
        "colab": {
          "base_uri": "https://localhost:8080/"
        }
      },
      "source": [
        "for nome, _, _ in usuarios: #desempacoted\n",
        "  print(nome)"
      ],
      "execution_count": 55,
      "outputs": [
        {
          "output_type": "stream",
          "text": [
            "Gui\n",
            "Chico\n"
          ],
          "name": "stdout"
        }
      ]
    },
    {
      "cell_type": "code",
      "metadata": {
        "id": "c9gb6xx6UPCd",
        "outputId": "65a62e9f-0799-4602-8837-0d2859002d2c",
        "colab": {
          "base_uri": "https://localhost:8080/"
        }
      },
      "source": [
        "idades"
      ],
      "execution_count": 56,
      "outputs": [
        {
          "output_type": "execute_result",
          "data": {
            "text/plain": [
              "[15, 87, 32, 65, 56, 32, 48, 37]"
            ]
          },
          "metadata": {
            "tags": []
          },
          "execution_count": 56
        }
      ]
    },
    {
      "cell_type": "code",
      "metadata": {
        "id": "tSFIB-3eVjgz",
        "outputId": "f923b283-13f4-4721-e73f-5d446d3f9f5c",
        "colab": {
          "base_uri": "https://localhost:8080/"
        }
      },
      "source": [
        "sorted(idades)"
      ],
      "execution_count": 57,
      "outputs": [
        {
          "output_type": "execute_result",
          "data": {
            "text/plain": [
              "[15, 32, 32, 37, 48, 56, 65, 87]"
            ]
          },
          "metadata": {
            "tags": []
          },
          "execution_count": 57
        }
      ]
    },
    {
      "cell_type": "code",
      "metadata": {
        "id": "BwqIdEq-Vmhd",
        "outputId": "596ad024-471c-4f22-c502-fd5d41a51eeb",
        "colab": {
          "base_uri": "https://localhost:8080/"
        }
      },
      "source": [
        "list(reversed(idades))"
      ],
      "execution_count": 59,
      "outputs": [
        {
          "output_type": "execute_result",
          "data": {
            "text/plain": [
              "[37, 48, 32, 56, 65, 32, 87, 15]"
            ]
          },
          "metadata": {
            "tags": []
          },
          "execution_count": 59
        }
      ]
    },
    {
      "cell_type": "code",
      "metadata": {
        "id": "l1vkK5QZVtDj",
        "outputId": "853c15aa-7d92-4bfc-d06d-c8e370b4e149",
        "colab": {
          "base_uri": "https://localhost:8080/"
        }
      },
      "source": [
        "sorted(idades, reverse=True)"
      ],
      "execution_count": 60,
      "outputs": [
        {
          "output_type": "execute_result",
          "data": {
            "text/plain": [
              "[87, 65, 56, 48, 37, 32, 32, 15]"
            ]
          },
          "metadata": {
            "tags": []
          },
          "execution_count": 60
        }
      ]
    },
    {
      "cell_type": "code",
      "metadata": {
        "id": "M6n_PP6sWA_7",
        "outputId": "89e7e1eb-3a0e-4a1d-8ecb-658e48baacb3",
        "colab": {
          "base_uri": "https://localhost:8080/"
        }
      },
      "source": [
        "list(reversed(sorted(idades)))"
      ],
      "execution_count": 61,
      "outputs": [
        {
          "output_type": "execute_result",
          "data": {
            "text/plain": [
              "[87, 65, 56, 48, 37, 32, 32, 15]"
            ]
          },
          "metadata": {
            "tags": []
          },
          "execution_count": 61
        }
      ]
    },
    {
      "cell_type": "code",
      "metadata": {
        "id": "Cq1BvR9jWEd6",
        "outputId": "d8a3c717-4f14-4d3b-fec6-6d2ca205c2e1",
        "colab": {
          "base_uri": "https://localhost:8080/"
        }
      },
      "source": [
        "idades"
      ],
      "execution_count": 62,
      "outputs": [
        {
          "output_type": "execute_result",
          "data": {
            "text/plain": [
              "[15, 87, 32, 65, 56, 32, 48, 37]"
            ]
          },
          "metadata": {
            "tags": []
          },
          "execution_count": 62
        }
      ]
    },
    {
      "cell_type": "code",
      "metadata": {
        "id": "7WUaorBaWMyy"
      },
      "source": [
        "idades.sort()"
      ],
      "execution_count": 63,
      "outputs": []
    },
    {
      "cell_type": "code",
      "metadata": {
        "id": "oSTbfH9iWT_T",
        "outputId": "afed741b-cea6-4b89-e3c1-f23e7c8b6ec0",
        "colab": {
          "base_uri": "https://localhost:8080/"
        }
      },
      "source": [
        "idades"
      ],
      "execution_count": 64,
      "outputs": [
        {
          "output_type": "execute_result",
          "data": {
            "text/plain": [
              "[15, 32, 32, 37, 48, 56, 65, 87]"
            ]
          },
          "metadata": {
            "tags": []
          },
          "execution_count": 64
        }
      ]
    },
    {
      "cell_type": "code",
      "metadata": {
        "id": "67NzqdnBWU3T",
        "outputId": "8571fa58-8c0e-4a70-a21a-82691227f1ce",
        "colab": {
          "base_uri": "https://localhost:8080/"
        }
      },
      "source": [
        "nomes = ['Guilherme', 'Daniela', 'Paulo']\n",
        "sorted(nomes)"
      ],
      "execution_count": 66,
      "outputs": [
        {
          "output_type": "execute_result",
          "data": {
            "text/plain": [
              "['Daniela', 'Guilherme', 'Paulo']"
            ]
          },
          "metadata": {
            "tags": []
          },
          "execution_count": 66
        }
      ]
    },
    {
      "cell_type": "code",
      "metadata": {
        "id": "x6GzkvsqXhNN"
      },
      "source": [
        "conta_gui = ContaSalario(17)\n",
        "conta_gui.deposita(500)\n",
        "\n",
        "conta_dani = ContaSalario(3)\n",
        "conta_dani.deposita(1000)\n",
        "\n",
        "conta_paulo = ContaSalario(133)\n",
        "conta_paulo.deposita(1500)\n",
        "\n",
        "contas = [conta_gui, conta_dani, conta_paulo]"
      ],
      "execution_count": 67,
      "outputs": []
    },
    {
      "cell_type": "code",
      "metadata": {
        "id": "S0THcvJCYRb1",
        "outputId": "f797d541-1d43-4063-ada7-60dd3da681ad",
        "colab": {
          "base_uri": "https://localhost:8080/"
        }
      },
      "source": [
        "for conta in contas:\n",
        "  print(conta)"
      ],
      "execution_count": 68,
      "outputs": [
        {
          "output_type": "stream",
          "text": [
            "[>> Codigo: 17 , Saldo: 500 <<]\n",
            "[>> Codigo: 3 , Saldo: 1000 <<]\n",
            "[>> Codigo: 133 , Saldo: 1500 <<]\n"
          ],
          "name": "stdout"
        }
      ]
    },
    {
      "cell_type": "code",
      "metadata": {
        "id": "nCsfYoISYUK7"
      },
      "source": [
        "def extrai_codigo(conta):\n",
        "  return conta._codigo\n",
        "\n"
      ],
      "execution_count": 75,
      "outputs": []
    },
    {
      "cell_type": "code",
      "metadata": {
        "id": "cKlPwSEiYxnz",
        "outputId": "5442a0b8-0076-49f5-98c4-7c7d396b5142",
        "colab": {
          "base_uri": "https://localhost:8080/"
        }
      },
      "source": [
        "for conta in sorted(contas, key=extrai_codigo):\n",
        "  print(conta)"
      ],
      "execution_count": 76,
      "outputs": [
        {
          "output_type": "stream",
          "text": [
            "[>> Codigo: 3 , Saldo: 1000 <<]\n",
            "[>> Codigo: 17 , Saldo: 500 <<]\n",
            "[>> Codigo: 133 , Saldo: 1500 <<]\n"
          ],
          "name": "stdout"
        }
      ]
    },
    {
      "cell_type": "code",
      "metadata": {
        "id": "FfZqEy0RY7JL"
      },
      "source": [
        "from operator import attrgetter"
      ],
      "execution_count": 77,
      "outputs": []
    },
    {
      "cell_type": "code",
      "metadata": {
        "id": "eNt7Wta2Zlx1",
        "outputId": "f496c04d-c52d-4317-f0ab-b9229b955f9b",
        "colab": {
          "base_uri": "https://localhost:8080/"
        }
      },
      "source": [
        "for conta in sorted(contas, key=attrgetter(\"_saldo\")):\n",
        "  print(conta)"
      ],
      "execution_count": 78,
      "outputs": [
        {
          "output_type": "stream",
          "text": [
            "[>> Codigo: 17 , Saldo: 500 <<]\n",
            "[>> Codigo: 3 , Saldo: 1000 <<]\n",
            "[>> Codigo: 133 , Saldo: 1500 <<]\n"
          ],
          "name": "stdout"
        }
      ]
    },
    {
      "cell_type": "code",
      "metadata": {
        "id": "smhvQr1NZqCM",
        "outputId": "38a018eb-e247-4c1f-b8d2-1d4587ddb64c",
        "colab": {
          "base_uri": "https://localhost:8080/"
        }
      },
      "source": [
        "for conta in sorted(contas, key=attrgetter(\"_codigo\")):\n",
        "  print(conta)"
      ],
      "execution_count": 79,
      "outputs": [
        {
          "output_type": "stream",
          "text": [
            "[>> Codigo: 3 , Saldo: 1000 <<]\n",
            "[>> Codigo: 17 , Saldo: 500 <<]\n",
            "[>> Codigo: 133 , Saldo: 1500 <<]\n"
          ],
          "name": "stdout"
        }
      ]
    },
    {
      "cell_type": "code",
      "metadata": {
        "id": "SYiPFTRcZvpE"
      },
      "source": [
        "conta_gui = ContaSalario(17)\n",
        "conta_gui.deposita(500)\n",
        "\n",
        "conta_dani = ContaSalario(3)\n",
        "conta_dani.deposita(1000)\n",
        "\n",
        "conta_paulo = ContaSalario(133)\n",
        "conta_paulo.deposita(1500)"
      ],
      "execution_count": 88,
      "outputs": []
    },
    {
      "cell_type": "code",
      "metadata": {
        "id": "eNcw9cDOaYAz",
        "outputId": "8d42ea4c-b22f-48d3-9576-a2b0200edec4",
        "colab": {
          "base_uri": "https://localhost:8080/"
        }
      },
      "source": [
        "conta_gui < conta_dani"
      ],
      "execution_count": 89,
      "outputs": [
        {
          "output_type": "execute_result",
          "data": {
            "text/plain": [
              "True"
            ]
          },
          "metadata": {
            "tags": []
          },
          "execution_count": 89
        }
      ]
    },
    {
      "cell_type": "code",
      "metadata": {
        "id": "CyVVm-PragM7"
      },
      "source": [
        "contas = [conta_gui, conta_dani, conta_paulo]"
      ],
      "execution_count": 90,
      "outputs": []
    },
    {
      "cell_type": "code",
      "metadata": {
        "id": "-VMmDEe5bOTm",
        "outputId": "86a56945-ae2f-4bb6-dfaa-1715aa222927",
        "colab": {
          "base_uri": "https://localhost:8080/"
        }
      },
      "source": [
        "for conta in sorted(contas, reverse=True):\n",
        "  print(conta)"
      ],
      "execution_count": 92,
      "outputs": [
        {
          "output_type": "stream",
          "text": [
            "[>> Codigo: 133 , Saldo: 1500 <<]\n",
            "[>> Codigo: 3 , Saldo: 1000 <<]\n",
            "[>> Codigo: 17 , Saldo: 500 <<]\n"
          ],
          "name": "stdout"
        }
      ]
    },
    {
      "cell_type": "code",
      "metadata": {
        "id": "4CN4k2K6bZdL"
      },
      "source": [
        "conta_gui = ContaSalario(17)\n",
        "conta_gui.deposita(500)\n",
        "\n",
        "conta_dani = ContaSalario(1113)\n",
        "conta_dani.deposita(1000)\n",
        "\n",
        "conta_paulo = ContaSalario(133)\n",
        "conta_paulo.deposita(1000)\n",
        "\n",
        "contas = [conta_gui, conta_dani, conta_paulo]"
      ],
      "execution_count": 93,
      "outputs": []
    },
    {
      "cell_type": "code",
      "metadata": {
        "id": "No2vklqmcHEU",
        "outputId": "af84e7e5-75d4-42cc-ad07-0a524e1c539c",
        "colab": {
          "base_uri": "https://localhost:8080/"
        }
      },
      "source": [
        "for conta in sorted(contas, key=attrgetter(\"_saldo\", \"_codigo\")):\n",
        "  print(conta)"
      ],
      "execution_count": 94,
      "outputs": [
        {
          "output_type": "stream",
          "text": [
            "[>> Codigo: 17 , Saldo: 500 <<]\n",
            "[>> Codigo: 133 , Saldo: 1000 <<]\n",
            "[>> Codigo: 1113 , Saldo: 1000 <<]\n"
          ],
          "name": "stdout"
        }
      ]
    },
    {
      "cell_type": "code",
      "metadata": {
        "id": "MNV7vEfxcOJL"
      },
      "source": [
        "from functools import total_ordering\n",
        "\n",
        "@total_ordering\n",
        "class ContaSalario:\n",
        "\n",
        "  def __init__(self, codigo):\n",
        "    self._codigo = codigo\n",
        "    self._saldo = 0\n",
        "  \n",
        "  def deposita(self, valor):\n",
        "    self._saldo += valor\n",
        "  \n",
        "  def __eq__(self, ref):\n",
        "    return self._codigo == ref._codigo\n",
        "\n",
        "  def __lt__(self, ref):\n",
        "    if self._saldo != ref._saldo:\n",
        "      return self._saldo < ref._saldo\n",
        "    return self._codigo < ref._codigo\n",
        "\n",
        "  def __str__(self):\n",
        "    return \"[>> Codigo: {} , Saldo: {} <<]\".format(self._codigo, self._saldo)"
      ],
      "execution_count": 100,
      "outputs": []
    },
    {
      "cell_type": "code",
      "metadata": {
        "id": "RG0OTaqqc2-c",
        "outputId": "b50f821d-51e9-430c-ab28-ff112d5f4555",
        "colab": {
          "base_uri": "https://localhost:8080/"
        }
      },
      "source": [
        "conta_gui = ContaSalario(17)\n",
        "conta_gui.deposita(500)\n",
        "\n",
        "conta_dani = ContaSalario(1113)\n",
        "conta_dani.deposita(1000)\n",
        "\n",
        "conta_paulo = ContaSalario(133)\n",
        "conta_paulo.deposita(1000)\n",
        "\n",
        "contas = [conta_gui, conta_dani, conta_paulo]\n",
        "\n",
        "for conta in sorted(contas):\n",
        "  print(conta)"
      ],
      "execution_count": 101,
      "outputs": [
        {
          "output_type": "stream",
          "text": [
            "[>> Codigo: 17 , Saldo: 500 <<]\n",
            "[>> Codigo: 133 , Saldo: 1000 <<]\n",
            "[>> Codigo: 1113 , Saldo: 1000 <<]\n"
          ],
          "name": "stdout"
        }
      ]
    },
    {
      "cell_type": "code",
      "metadata": {
        "id": "-KROZr36c6db",
        "outputId": "85fe1d9c-7df2-44cd-8756-6448c49644f4",
        "colab": {
          "base_uri": "https://localhost:8080/"
        }
      },
      "source": [
        "conta_dani <= conta_paulo"
      ],
      "execution_count": 102,
      "outputs": [
        {
          "output_type": "execute_result",
          "data": {
            "text/plain": [
              "False"
            ]
          },
          "metadata": {
            "tags": []
          },
          "execution_count": 102
        }
      ]
    },
    {
      "cell_type": "code",
      "metadata": {
        "id": "xHZi76kDeFpN",
        "outputId": "861eef4e-c4e9-4c9f-ea05-500a8e5f61d5",
        "colab": {
          "base_uri": "https://localhost:8080/"
        }
      },
      "source": [
        "conta_dani == conta_paulo"
      ],
      "execution_count": 103,
      "outputs": [
        {
          "output_type": "execute_result",
          "data": {
            "text/plain": [
              "False"
            ]
          },
          "metadata": {
            "tags": []
          },
          "execution_count": 103
        }
      ]
    },
    {
      "cell_type": "code",
      "metadata": {
        "id": "N6SqYpAyeImE"
      },
      "source": [
        ""
      ],
      "execution_count": null,
      "outputs": []
    }
  ]
}